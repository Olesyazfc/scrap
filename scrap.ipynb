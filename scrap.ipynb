{
 "cells": [
  {
   "cell_type": "code",
   "execution_count": 70,
   "metadata": {},
   "outputs": [
    {
     "name": "stdout",
     "output_type": "stream",
     "text": [
      "2022-04-19, 18:30 - Pycon Weekend 2022: как прошла конференция по python в горах - https://habr.com/ru/company/it_people/blog/661749/\n",
      "2022-04-19, 18:02 - Красивая улыбка – это математика. Рассказываем о роли 3D-цефалометрического анализа в ортодонтической диагностике - https://habr.com/ru/post/661905/\n",
      "2022-04-19, 15:06 - Патент на RPG - https://habr.com/ru/company/digitalrightscenter/blog/661835/\n"
     ]
    }
   ],
   "source": [
    "import requests\n",
    "import bs4\n",
    "import re\n",
    "\n",
    "KEYWORDS = ['дизайн', 'фото', 'web', 'python']\n",
    "\n",
    "url = 'https://habr.com'\n",
    "HEADERS = {\n",
    "    'Cookie': '_ym_uid=1639148487334283574; _ym_d=1639149414; _ga=GA1.2.528119004.1639149415; _gid=GA1.2.512914915.1639149415; habr_web_home=ARTICLES_LIST_ALL; hl=ru; fl=ru; _ym_isad=2; __gads=ID=87f529752d2e0de1-221b467103cd00b7:T=1639149409:S=ALNI_MYKvHcaV4SWfZmCb3_wXDx2olu6kw',\n",
    "    'Accept-Language': 'ru-RU,ru;q=0.9',\n",
    "    'Sec-Fetch-Dest': 'document',\n",
    "    'Sec-Fetch-Mode': 'navigate',\n",
    "    'Sec-Fetch-Site': 'same-origin',\n",
    "    'Sec-Fetch-User': '?1',\n",
    "    'Cache-Control': 'max-age=0',\n",
    "    'If-None-Match': 'W/\"37433-+qZyNZhUgblOQJvD5vdmtE4BN6w\"',\n",
    "    'User-Agent': 'Mozilla/5.0 (Windows NT 10.0; Win64; x64) AppleWebKit/537.36 (KHTML, like Gecko) Chrome/96.0.4664.93 Safari/537.36',\n",
    "    'sec-ch-ua-mobile': '?0'}\n",
    "\n",
    "\n",
    "response = requests.get(url, headers=HEADERS)\n",
    "text = response.text\n",
    "\n",
    "soup = bs4.BeautifulSoup(text, features='html.parser')\n",
    "articles = soup.find_all('article')\n",
    "\n",
    "for article in articles:\n",
    "    href = article.find(class_='tm-article-snippet__title-link').attrs['href']\n",
    "    ar_url = url + href\n",
    "\n",
    "    res = requests.get(ar_url, headers=HEADERS)\n",
    "    res_text = res.text\n",
    "    soup1 = bs4.BeautifulSoup(res_text, features='html.parser')\n",
    "    ar_text = soup1.find(id='post-content-body')\n",
    "\n",
    "    date = article.find('time').attrs['title']\n",
    "    name = article.find('h2').text\n",
    "    preview = article.find(class_='tm-article-snippet').text\n",
    "    new_preview = re.sub(r'(\\*)([\\w]+)', r'\\2', preview)\n",
    "\n",
    "    for key in KEYWORDS:\n",
    "        if key in new_preview or key in ar_text:\n",
    "            print(f'{date} - {name} - {ar_url}')\n",
    "\n",
    "\n"
   ]
  },
  {
   "cell_type": "code",
   "execution_count": null,
   "metadata": {},
   "outputs": [],
   "source": []
  }
 ],
 "metadata": {
  "interpreter": {
   "hash": "b89b5cfaba6639976dc87ff2fec6d58faec662063367e2c229c520fe71072417"
  },
  "kernelspec": {
   "display_name": "Python 3.10.0 64-bit",
   "language": "python",
   "name": "python3"
  },
  "language_info": {
   "codemirror_mode": {
    "name": "ipython",
    "version": 3
   },
   "file_extension": ".py",
   "mimetype": "text/x-python",
   "name": "python",
   "nbconvert_exporter": "python",
   "pygments_lexer": "ipython3",
   "version": "3.10.0"
  },
  "orig_nbformat": 4
 },
 "nbformat": 4,
 "nbformat_minor": 2
}
